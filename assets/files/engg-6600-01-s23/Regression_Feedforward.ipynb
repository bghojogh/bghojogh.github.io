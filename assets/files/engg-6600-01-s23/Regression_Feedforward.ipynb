{
  "nbformat": 4,
  "nbformat_minor": 0,
  "metadata": {
    "colab": {
      "provenance": []
    },
    "kernelspec": {
      "name": "python3",
      "display_name": "Python 3"
    },
    "language_info": {
      "name": "python"
    }
  },
  "cells": [
    {
      "cell_type": "markdown",
      "source": [
        "# Simple linear and nonlinear regression using feedforward neural network"
      ],
      "metadata": {
        "id": "TyHtfpI1P38f"
      }
    },
    {
      "cell_type": "markdown",
      "source": [
        "# Importing packages"
      ],
      "metadata": {
        "id": "7zh22rKOsYFL"
      }
    },
    {
      "cell_type": "code",
      "source": [
        "# installation in Google Colab's Jupyter notebook:\n",
        "!pip install torch"
      ],
      "metadata": {
        "colab": {
          "base_uri": "https://localhost:8080/"
        },
        "id": "VHXXQhepOCl0",
        "outputId": "79feabe2-cf91-4ec4-cabb-8a3c00fab6f7"
      },
      "execution_count": 189,
      "outputs": [
        {
          "output_type": "stream",
          "name": "stdout",
          "text": [
            "Looking in indexes: https://pypi.org/simple, https://us-python.pkg.dev/colab-wheels/public/simple/\n",
            "Requirement already satisfied: torch in /usr/local/lib/python3.8/dist-packages (1.13.1+cu116)\n",
            "Requirement already satisfied: typing-extensions in /usr/local/lib/python3.8/dist-packages (from torch) (4.4.0)\n"
          ]
        }
      ]
    },
    {
      "cell_type": "code",
      "execution_count": 320,
      "metadata": {
        "id": "OSO3qCzINp2f"
      },
      "outputs": [],
      "source": [
        "# importing packages (libraries):\n",
        "import torch\n",
        "import torch.nn as nn\n",
        "from torch.utils.data import DataLoader, Dataset\n",
        "import matplotlib.pyplot as plt\n",
        "import numpy as np\n",
        "from tqdm import tqdm"
      ]
    },
    {
      "cell_type": "markdown",
      "source": [
        "# Defining the network"
      ],
      "metadata": {
        "id": "pQ4vmLg-RONa"
      }
    },
    {
      "cell_type": "code",
      "source": [
        "device = torch.device(\"cuda:0\" if torch.cuda.is_available() else \"cpu\")"
      ],
      "metadata": {
        "id": "kgwjX8OWjIvR"
      },
      "execution_count": 217,
      "outputs": []
    },
    {
      "cell_type": "code",
      "source": [
        "# defining the structure of neural network:\n",
        "class NeuralNetwork(nn.Module):\n",
        "    def __init__(self):\n",
        "        super(NeuralNetwork, self).__init__()\n",
        "        self.layer1 = nn.Linear(1, 10)\n",
        "        self.layer2 = nn.Linear(10, 20)\n",
        "        self.layer3 = nn.Linear(20, 10)\n",
        "        self.layer4 = nn.Linear(10, 1)\n",
        "        self.relu1 = nn.ReLU()\n",
        "        self.relu2 = nn.ReLU()\n",
        "        self.relu3 = nn.ReLU()\n",
        "\n",
        "    def forward(self, x):\n",
        "        x = self.relu1(self.layer1(x))\n",
        "        x = self.relu2(self.layer2(x))\n",
        "        x = self.relu3(self.layer3(x))\n",
        "        x = self.layer4(x)\n",
        "        return x"
      ],
      "metadata": {
        "id": "rtvjoQ5FN3oV"
      },
      "execution_count": 339,
      "outputs": []
    },
    {
      "cell_type": "code",
      "source": [
        "# instantiate the class of neural network:\n",
        "net = NeuralNetwork()\n",
        "print(net)"
      ],
      "metadata": {
        "colab": {
          "base_uri": "https://localhost:8080/"
        },
        "id": "NtMoB9PpOoVp",
        "outputId": "3a3e78d3-7236-4bfe-f042-cfe540605440"
      },
      "execution_count": 340,
      "outputs": [
        {
          "output_type": "stream",
          "name": "stdout",
          "text": [
            "NeuralNetwork(\n",
            "  (layer1): Linear(in_features=1, out_features=10, bias=True)\n",
            "  (layer2): Linear(in_features=10, out_features=20, bias=True)\n",
            "  (layer3): Linear(in_features=20, out_features=10, bias=True)\n",
            "  (layer4): Linear(in_features=10, out_features=1, bias=True)\n",
            "  (relu1): ReLU()\n",
            "  (relu2): ReLU()\n",
            "  (relu3): ReLU()\n",
            ")\n"
          ]
        }
      ]
    },
    {
      "cell_type": "markdown",
      "source": [
        "# Optimizer"
      ],
      "metadata": {
        "id": "sLgQsph7sd5d"
      }
    },
    {
      "cell_type": "code",
      "source": [
        "# define optimizer:\n",
        "optimizer = 'Adam'\n",
        "if optimizer == 'SGD':\n",
        "    optimizer = torch.optim.SGD(net.parameters(), lr=0.02)\n",
        "elif optimizer == 'Adam':\n",
        "    optimizer = torch.optim.Adam(net.parameters(), lr=0.02)\n",
        "\n",
        "# define the loss function:\n",
        "loss_func = torch.nn.MSELoss()"
      ],
      "metadata": {
        "id": "KUGgc5ygRWeW"
      },
      "execution_count": 341,
      "outputs": []
    },
    {
      "cell_type": "markdown",
      "source": [
        "# Data loader"
      ],
      "metadata": {
        "id": "2zOvmaIbs_g7"
      }
    },
    {
      "cell_type": "code",
      "source": [
        "class Data(Dataset):\n",
        "    def __init__(self, x, y):\n",
        "        self.data = torch.from_numpy(x.reshape(-1,1)).float()\n",
        "        self.label = torch.from_numpy(y.reshape(-1,1)).float()\n",
        "\n",
        "    def __len__(self):\n",
        "        return len(self.data)\n",
        "    \n",
        "    def __getitem__(self, item):\n",
        "        data_point = self.data[item]\n",
        "        label_point = self.label[item]\n",
        "        return data_point, label_point"
      ],
      "metadata": {
        "id": "ja7e9z92SptW"
      },
      "execution_count": 342,
      "outputs": []
    },
    {
      "cell_type": "code",
      "source": [
        "batch_size = 16\n",
        "def load_dataset(x_train, y_train, x_test, y_test):    \n",
        "    # data loader for training data:\n",
        "    train_ds = Data(x_train, y_train)\n",
        "    train_loader = DataLoader(train_ds, batch_size=batch_size, shuffle=True)\n",
        "\n",
        "    # data loader for test data:\n",
        "    test_ds = Data(x_test, y_test)\n",
        "    test_loader = DataLoader(test_ds, batch_size=batch_size, shuffle=False)\n",
        "\n",
        "    return train_loader, test_loader"
      ],
      "metadata": {
        "id": "NYkrRDXQTesk"
      },
      "execution_count": 343,
      "outputs": []
    },
    {
      "cell_type": "markdown",
      "source": [
        "# Dataset"
      ],
      "metadata": {
        "id": "zRhIJNkAtFHL"
      }
    },
    {
      "cell_type": "code",
      "source": [
        "dataset_type = 'nonlinear'\n",
        "\n",
        "if dataset_type == 'linear':\n",
        "    # almost linear dataset:\n",
        "    x_train = np.random.rand(100)\n",
        "    y_train = np.sin(x_train) * (x_train**3) + 3*x_train + np.random.rand(100)*0.8\n",
        "    x_test = np.random.rand(100)\n",
        "    y_test = np.sin(x_test) * (x_test**3) + 3*x_test + np.random.rand(100)*0.8\n",
        "elif dataset_type == 'nonlinear':\n",
        "    # dataset:\n",
        "    x_train = np.random.rand(100) * 10\n",
        "    y_train = np.sin(x_train) + np.random.rand(100)*0.8\n",
        "    x_test = np.random.rand(100) * 10\n",
        "    y_test = np.sin(x_test) + np.random.rand(100)*0.8\n",
        "\n",
        "# reshape to have samples in rows:\n",
        "x_train = x_train.reshape((-1, 1))\n",
        "x_test = x_test.reshape((-1, 1))\n",
        "\n",
        "# visualize data:\n",
        "plt.scatter(x_train, y_train, c='r', label='train')\n",
        "plt.scatter(x_test, y_test, c='b', label='test')\n",
        "plt.xlabel('x')\n",
        "plt.ylabel('y')\n",
        "plt.legend()\n",
        "plt.show()"
      ],
      "metadata": {
        "colab": {
          "base_uri": "https://localhost:8080/",
          "height": 279
        },
        "id": "D5m1-zDzVzz4",
        "outputId": "91561b39-ab81-4212-8abd-293303820d01"
      },
      "execution_count": 344,
      "outputs": [
        {
          "output_type": "display_data",
          "data": {
            "text/plain": [
              "<Figure size 432x288 with 1 Axes>"
            ],
            "image/png": "[encoded data removed]"
          },
          "metadata": {
            "needs_background": "light"
          }
        }
      ]
    },
    {
      "cell_type": "markdown",
      "source": [
        "# Training neural network"
      ],
      "metadata": {
        "id": "i6exUc5ntLHV"
      }
    },
    {
      "cell_type": "code",
      "source": [
        "# load dataset:\n",
        "train_loader, test_loader = load_dataset(x_train, y_train, x_test, y_test)"
      ],
      "metadata": {
        "id": "fj8XWyinXhXm"
      },
      "execution_count": 345,
      "outputs": []
    },
    {
      "cell_type": "code",
      "source": [
        "n_epochs = 1000\n",
        "loss_list = []\n",
        "for epoch in tqdm(range(n_epochs), desc='epochs'):\n",
        "    loss_list_in_epoch = []\n",
        "    for step, (data_batch, label_batch) in enumerate(train_loader):\n",
        "        data_batch, label_batch = data_batch.to(device), label_batch.to(device)\n",
        "        prediction = net(data_batch)\n",
        "        loss = loss_func(prediction, label_batch) \n",
        "        loss_list_in_epoch.append(loss.cpu().detach().item())\n",
        "        optimizer.zero_grad()\n",
        "        loss.backward()        \n",
        "        optimizer.step()\n",
        "    loss_list.append(np.mean(loss_list_in_epoch))"
      ],
      "metadata": {
        "colab": {
          "base_uri": "https://localhost:8080/"
        },
        "id": "5cpTNyGnSMSF",
        "outputId": "9b444632-5834-4952-f04d-220e6061d02b"
      },
      "execution_count": 346,
      "outputs": [
        {
          "output_type": "stream",
          "name": "stderr",
          "text": [
            "epochs: 100%|██████████| 1000/1000 [00:12<00:00, 81.84it/s]\n"
          ]
        }
      ]
    },
    {
      "cell_type": "markdown",
      "source": [
        "# Test (evaluation) phase"
      ],
      "metadata": {
        "id": "6gH8WxfbtPDP"
      }
    },
    {
      "cell_type": "code",
      "source": [
        "prediction_list = []\n",
        "with torch.no_grad():\n",
        "    for step, (data_batch, label_batch) in enumerate(test_loader):\n",
        "        prediction = net(data_batch)\n",
        "        prediction_list.extend(prediction)"
      ],
      "metadata": {
        "id": "wv9rtYHVaKvD"
      },
      "execution_count": 347,
      "outputs": []
    },
    {
      "cell_type": "code",
      "source": [
        "# visualize the predicted and actual data:\n",
        "plt.scatter(x_test, y_test, c='b', label='test')\n",
        "plt.scatter(x_test, prediction_list, c='g', label='prediction')\n",
        "plt.xlabel('x')\n",
        "plt.ylabel('y')\n",
        "plt.legend()\n",
        "plt.show()"
      ],
      "metadata": {
        "colab": {
          "base_uri": "https://localhost:8080/",
          "height": 279
        },
        "id": "CO4x1yljbSv8",
        "outputId": "a5d7efb4-fa67-46d0-ac7a-7df3e43ebc29"
      },
      "execution_count": 350,
      "outputs": [
        {
          "output_type": "display_data",
          "data": {
            "text/plain": [
              "<Figure size 432x288 with 1 Axes>"
            ],
            "image/png": "[encoded data removed]"
          },
          "metadata": {
            "needs_background": "light"
          }
        }
      ]
    },
    {
      "cell_type": "code",
      "source": [],
      "metadata": {
        "id": "h4F9InWJQ3sI"
      },
      "execution_count": null,
      "outputs": []
    }
  ]
}